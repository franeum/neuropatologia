{
 "cells": [
  {
   "cell_type": "code",
   "execution_count": 1,
   "metadata": {
    "ExecuteTime": {
     "end_time": "2022-11-08T11:44:42.902487Z",
     "start_time": "2022-11-08T11:44:42.389677Z"
    }
   },
   "outputs": [],
   "source": [
    "import pandas as pd"
   ]
  },
  {
   "cell_type": "code",
   "execution_count": 4,
   "metadata": {
    "ExecuteTime": {
     "end_time": "2022-11-08T11:47:54.665059Z",
     "start_time": "2022-11-08T11:47:54.652242Z"
    }
   },
   "outputs": [],
   "source": [
    "t = pd.read_csv('mbuto-Scenes.csv')"
   ]
  },
  {
   "cell_type": "code",
   "execution_count": 7,
   "metadata": {
    "ExecuteTime": {
     "end_time": "2022-11-08T11:48:20.784150Z",
     "start_time": "2022-11-08T11:48:20.772148Z"
    }
   },
   "outputs": [
    {
     "data": {
      "text/plain": [
       "Index(['Scene Number', 'Start Frame', 'Start Timecode', 'Start Time (seconds)',\n",
       "       'End Frame', 'End Timecode', 'End Time (seconds)', 'Length (frames)',\n",
       "       'Length (timecode)', 'Length (seconds)'],\n",
       "      dtype='object')"
      ]
     },
     "execution_count": 7,
     "metadata": {},
     "output_type": "execute_result"
    }
   ],
   "source": [
    "t.columns"
   ]
  },
  {
   "cell_type": "code",
   "execution_count": 9,
   "metadata": {
    "ExecuteTime": {
     "end_time": "2022-11-08T11:48:49.505072Z",
     "start_time": "2022-11-08T11:48:49.480810Z"
    }
   },
   "outputs": [
    {
     "data": {
      "text/html": [
       "<div>\n",
       "<style scoped>\n",
       "    .dataframe tbody tr th:only-of-type {\n",
       "        vertical-align: middle;\n",
       "    }\n",
       "\n",
       "    .dataframe tbody tr th {\n",
       "        vertical-align: top;\n",
       "    }\n",
       "\n",
       "    .dataframe thead th {\n",
       "        text-align: right;\n",
       "    }\n",
       "</style>\n",
       "<table border=\"1\" class=\"dataframe\">\n",
       "  <thead>\n",
       "    <tr style=\"text-align: right;\">\n",
       "      <th></th>\n",
       "      <th>Scene Number</th>\n",
       "      <th>Length (seconds)</th>\n",
       "    </tr>\n",
       "  </thead>\n",
       "  <tbody>\n",
       "    <tr>\n",
       "      <th>0</th>\n",
       "      <td>1</td>\n",
       "      <td>31.185</td>\n",
       "    </tr>\n",
       "    <tr>\n",
       "      <th>1</th>\n",
       "      <td>2</td>\n",
       "      <td>25.701</td>\n",
       "    </tr>\n",
       "    <tr>\n",
       "      <th>2</th>\n",
       "      <td>3</td>\n",
       "      <td>33.547</td>\n",
       "    </tr>\n",
       "    <tr>\n",
       "      <th>3</th>\n",
       "      <td>4</td>\n",
       "      <td>77.583</td>\n",
       "    </tr>\n",
       "    <tr>\n",
       "      <th>4</th>\n",
       "      <td>5</td>\n",
       "      <td>23.579</td>\n",
       "    </tr>\n",
       "    <tr>\n",
       "      <th>5</th>\n",
       "      <td>6</td>\n",
       "      <td>36.510</td>\n",
       "    </tr>\n",
       "    <tr>\n",
       "      <th>6</th>\n",
       "      <td>7</td>\n",
       "      <td>5.645</td>\n",
       "    </tr>\n",
       "    <tr>\n",
       "      <th>7</th>\n",
       "      <td>8</td>\n",
       "      <td>28.063</td>\n",
       "    </tr>\n",
       "    <tr>\n",
       "      <th>8</th>\n",
       "      <td>9</td>\n",
       "      <td>18.495</td>\n",
       "    </tr>\n",
       "  </tbody>\n",
       "</table>\n",
       "</div>"
      ],
      "text/plain": [
       "   Scene Number  Length (seconds)\n",
       "0             1            31.185\n",
       "1             2            25.701\n",
       "2             3            33.547\n",
       "3             4            77.583\n",
       "4             5            23.579\n",
       "5             6            36.510\n",
       "6             7             5.645\n",
       "7             8            28.063\n",
       "8             9            18.495"
      ]
     },
     "execution_count": 9,
     "metadata": {},
     "output_type": "execute_result"
    }
   ],
   "source": [
    "t[['Scene Number','Length (seconds)']]"
   ]
  },
  {
   "cell_type": "code",
   "execution_count": 19,
   "metadata": {
    "ExecuteTime": {
     "end_time": "2022-11-08T11:51:22.389738Z",
     "start_time": "2022-11-08T11:51:22.275575Z"
    }
   },
   "outputs": [
    {
     "data": {
      "text/plain": [
       "0    31185.0\n",
       "1    25701.0\n",
       "2    33547.0\n",
       "3    77583.0\n",
       "4    23579.0\n",
       "5    36510.0\n",
       "6     5645.0\n",
       "7    28063.0\n",
       "8    18495.0\n",
       "Name: Length (seconds), dtype: float64"
      ]
     },
     "execution_count": 19,
     "metadata": {},
     "output_type": "execute_result"
    }
   ],
   "source": [
    "t['Length (seconds)'] * 1000"
   ]
  },
  {
   "cell_type": "code",
   "execution_count": 20,
   "metadata": {
    "ExecuteTime": {
     "end_time": "2022-11-08T11:51:41.175716Z",
     "start_time": "2022-11-08T11:51:41.170682Z"
    }
   },
   "outputs": [],
   "source": [
    "times = (t['Length (seconds)'] * 1000).tolist()"
   ]
  },
  {
   "cell_type": "code",
   "execution_count": 21,
   "metadata": {
    "ExecuteTime": {
     "end_time": "2022-11-08T11:51:44.321797Z",
     "start_time": "2022-11-08T11:51:44.315102Z"
    }
   },
   "outputs": [],
   "source": [
    "times.insert(0,0)"
   ]
  },
  {
   "cell_type": "code",
   "execution_count": 22,
   "metadata": {
    "ExecuteTime": {
     "end_time": "2022-11-08T11:51:45.386495Z",
     "start_time": "2022-11-08T11:51:45.376731Z"
    }
   },
   "outputs": [
    {
     "data": {
      "text/plain": [
       "[0,\n",
       " 31185.0,\n",
       " 25701.0,\n",
       " 33547.0,\n",
       " 77583.0,\n",
       " 23579.0,\n",
       " 36510.0,\n",
       " 5645.0,\n",
       " 28063.0,\n",
       " 18495.0]"
      ]
     },
     "execution_count": 22,
     "metadata": {},
     "output_type": "execute_result"
    }
   ],
   "source": [
    "times"
   ]
  },
  {
   "cell_type": "code",
   "execution_count": 26,
   "metadata": {
    "ExecuteTime": {
     "end_time": "2022-11-08T11:58:30.327328Z",
     "start_time": "2022-11-08T11:58:30.311808Z"
    }
   },
   "outputs": [
    {
     "name": "stdout",
     "output_type": "stream",
     "text": [
      "0 qlisted 0;\n",
      "31185 qlisted 31185;\n",
      "25701 qlisted 25701;\n",
      "33547 qlisted 33547;\n",
      "77583 qlisted 77583;\n",
      "23579 qlisted 23579;\n",
      "36510 qlisted 36510;\n",
      "5645 qlisted 5645;\n",
      "28063 qlisted 28063;\n",
      "18495 qlisted 18495;\n"
     ]
    }
   ],
   "source": [
    "for i in times:\n",
    "    print(f\"{int(i)} qlisted {int(i)};\")"
   ]
  }
 ],
 "metadata": {
  "kernelspec": {
   "display_name": "Python 3",
   "language": "python",
   "name": "python3"
  },
  "language_info": {
   "codemirror_mode": {
    "name": "ipython",
    "version": 3
   },
   "file_extension": ".py",
   "mimetype": "text/x-python",
   "name": "python",
   "nbconvert_exporter": "python",
   "pygments_lexer": "ipython3",
   "version": "3.7.4"
  },
  "toc": {
   "base_numbering": 1,
   "nav_menu": {},
   "number_sections": true,
   "sideBar": true,
   "skip_h1_title": false,
   "title_cell": "Table of Contents",
   "title_sidebar": "Contents",
   "toc_cell": false,
   "toc_position": {},
   "toc_section_display": true,
   "toc_window_display": false
  }
 },
 "nbformat": 4,
 "nbformat_minor": 2
}
