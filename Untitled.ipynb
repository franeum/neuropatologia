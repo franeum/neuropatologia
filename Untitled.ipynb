{
 "cells": [
  {
   "cell_type": "code",
   "execution_count": 121,
   "metadata": {
    "ExecuteTime": {
     "end_time": "2022-11-07T14:52:10.902222Z",
     "start_time": "2022-11-07T14:52:10.894928Z"
    }
   },
   "outputs": [],
   "source": [
    "import cv2\n",
    "import numpy as np\n",
    "import matplotlib.pyplot as plt\n",
    "\n",
    "Video_FILE = \"./test01.mp4\""
   ]
  },
  {
   "cell_type": "code",
   "execution_count": 122,
   "metadata": {
    "ExecuteTime": {
     "end_time": "2022-11-07T14:52:12.021416Z",
     "start_time": "2022-11-07T14:52:12.018441Z"
    }
   },
   "outputs": [],
   "source": [
    "def get_frames(filename):\n",
    "    video=cv2.VideoCapture(filename)\n",
    "    while video.isOpened():\n",
    "        rete,frame=video.read()\n",
    "        if rete:\n",
    "            print('frame')\n",
    "            yield frame\n",
    "        else:\n",
    "            break\n",
    "        video.release()\n",
    "        yield None"
   ]
  },
  {
   "cell_type": "code",
   "execution_count": 138,
   "metadata": {
    "ExecuteTime": {
     "end_time": "2022-11-07T15:06:36.839366Z",
     "start_time": "2022-11-07T15:06:36.827039Z"
    }
   },
   "outputs": [
    {
     "name": "stdout",
     "output_type": "stream",
     "text": [
      "Help on class VideoCapture in module cv2.cv2:\n",
      "\n",
      "class VideoCapture(builtins.object)\n",
      " |  Methods defined here:\n",
      " |  \n",
      " |  __init__(self, /, *args, **kwargs)\n",
      " |      Initialize self.  See help(type(self)) for accurate signature.\n",
      " |  \n",
      " |  __repr__(self, /)\n",
      " |      Return repr(self).\n",
      " |  \n",
      " |  get(...)\n",
      " |      get(propId) -> retval\n",
      " |      .   @brief Returns the specified VideoCapture property\n",
      " |      .   \n",
      " |      .       @param propId Property identifier from cv::VideoCaptureProperties (eg. cv::CAP_PROP_POS_MSEC, cv::CAP_PROP_POS_FRAMES, ...)\n",
      " |      .       or one from @ref videoio_flags_others\n",
      " |      .       @return Value for the specified property. Value 0 is returned when querying a property that is\n",
      " |      .       not supported by the backend used by the VideoCapture instance.\n",
      " |      .   \n",
      " |      .       @note Reading / writing properties involves many layers. Some unexpected result might happens\n",
      " |      .       along this chain.\n",
      " |      .       @code{.txt}\n",
      " |      .       VideoCapture -> API Backend -> Operating System -> Device Driver -> Device Hardware\n",
      " |      .       @endcode\n",
      " |      .       The returned value might be different from what really used by the device or it could be encoded\n",
      " |      .       using device dependent rules (eg. steps or percentage). Effective behaviour depends from device\n",
      " |      .       driver and API Backend\n",
      " |  \n",
      " |  getBackendName(...)\n",
      " |      getBackendName() -> retval\n",
      " |      .   @brief Returns used backend API name\n",
      " |      .   \n",
      " |      .        @note Stream should be opened.\n",
      " |  \n",
      " |  getExceptionMode(...)\n",
      " |      getExceptionMode() -> retval\n",
      " |      .\n",
      " |  \n",
      " |  grab(...)\n",
      " |      grab() -> retval\n",
      " |      .   @brief Grabs the next frame from video file or capturing device.\n",
      " |      .   \n",
      " |      .       @return `true` (non-zero) in the case of success.\n",
      " |      .   \n",
      " |      .       The method/function grabs the next frame from video file or camera and returns true (non-zero) in\n",
      " |      .       the case of success.\n",
      " |      .   \n",
      " |      .       The primary use of the function is in multi-camera environments, especially when the cameras do not\n",
      " |      .       have hardware synchronization. That is, you call VideoCapture::grab() for each camera and after that\n",
      " |      .       call the slower method VideoCapture::retrieve() to decode and get frame from each camera. This way\n",
      " |      .       the overhead on demosaicing or motion jpeg decompression etc. is eliminated and the retrieved frames\n",
      " |      .       from different cameras will be closer in time.\n",
      " |      .   \n",
      " |      .       Also, when a connected camera is multi-head (for example, a stereo camera or a Kinect device), the\n",
      " |      .       correct way of retrieving data from it is to call VideoCapture::grab() first and then call\n",
      " |      .       VideoCapture::retrieve() one or more times with different values of the channel parameter.\n",
      " |      .   \n",
      " |      .       @ref tutorial_kinect_openni\n",
      " |  \n",
      " |  isOpened(...)\n",
      " |      isOpened() -> retval\n",
      " |      .   @brief Returns true if video capturing has been initialized already.\n",
      " |      .   \n",
      " |      .       If the previous call to VideoCapture constructor or VideoCapture::open() succeeded, the method returns\n",
      " |      .       true.\n",
      " |  \n",
      " |  open(...)\n",
      " |      open(filename[, apiPreference]) -> retval\n",
      " |      .   @brief  Opens a video file or a capturing device or an IP video stream for video capturing.\n",
      " |      .   \n",
      " |      .       @overload\n",
      " |      .   \n",
      " |      .       Parameters are same as the constructor VideoCapture(const String& filename, int apiPreference = CAP_ANY)\n",
      " |      .       @return `true` if the file has been successfully opened\n",
      " |      .   \n",
      " |      .       The method first calls VideoCapture::release to close the already opened file or camera.\n",
      " |      \n",
      " |      \n",
      " |      \n",
      " |      open(filename, apiPreference, params) -> retval\n",
      " |      .   @brief  Opens a camera for video capturing\n",
      " |      .   \n",
      " |      .       @overload\n",
      " |      .   \n",
      " |      .       The `params` parameter allows to specify extra parameters encoded as pairs `(paramId_1, paramValue_1, paramId_2, paramValue_2, ...)`.\n",
      " |      .       See cv::VideoCaptureProperties\n",
      " |      .   \n",
      " |      .       @return `true` if the file has been successfully opened\n",
      " |      .   \n",
      " |      .       The method first calls VideoCapture::release to close the already opened file or camera.\n",
      " |      \n",
      " |      \n",
      " |      \n",
      " |      open(index[, apiPreference]) -> retval\n",
      " |      .   @brief  Opens a camera for video capturing\n",
      " |      .   \n",
      " |      .       @overload\n",
      " |      .   \n",
      " |      .       Parameters are same as the constructor VideoCapture(int index, int apiPreference = CAP_ANY)\n",
      " |      .       @return `true` if the camera has been successfully opened.\n",
      " |      .   \n",
      " |      .       The method first calls VideoCapture::release to close the already opened file or camera.\n",
      " |      \n",
      " |      \n",
      " |      \n",
      " |      open(index, apiPreference, params) -> retval\n",
      " |      .   @brief Returns true if video capturing has been initialized already.\n",
      " |      .   \n",
      " |      .       @overload\n",
      " |      .   \n",
      " |      .       The `params` parameter allows to specify extra parameters encoded as pairs `(paramId_1, paramValue_1, paramId_2, paramValue_2, ...)`.\n",
      " |      .       See cv::VideoCaptureProperties\n",
      " |      .   \n",
      " |      .       @return `true` if the camera has been successfully opened.\n",
      " |      .   \n",
      " |      .       The method first calls VideoCapture::release to close the already opened file or camera.\n",
      " |  \n",
      " |  read(...)\n",
      " |      read([, image]) -> retval, image\n",
      " |      .   @brief Grabs, decodes and returns the next video frame.\n",
      " |      .   \n",
      " |      .       @param [out] image the video frame is returned here. If no frames has been grabbed the image will be empty.\n",
      " |      .       @return `false` if no frames has been grabbed\n",
      " |      .   \n",
      " |      .       The method/function combines VideoCapture::grab() and VideoCapture::retrieve() in one call. This is the\n",
      " |      .       most convenient method for reading video files or capturing data from decode and returns the just\n",
      " |      .       grabbed frame. If no frames has been grabbed (camera has been disconnected, or there are no more\n",
      " |      .       frames in video file), the method returns false and the function returns empty image (with %cv::Mat, test it with Mat::empty()).\n",
      " |      .   \n",
      " |      .       @note In @ref videoio_c \"C API\", functions cvRetrieveFrame() and cv.RetrieveFrame() return image stored inside the video\n",
      " |      .       capturing structure. It is not allowed to modify or release the image! You can copy the frame using\n",
      " |      .       cvCloneImage and then do whatever you want with the copy.\n",
      " |  \n",
      " |  release(...)\n",
      " |      release() -> None\n",
      " |      .   @brief Closes video file or capturing device.\n",
      " |      .   \n",
      " |      .       The method is automatically called by subsequent VideoCapture::open and by VideoCapture\n",
      " |      .       destructor.\n",
      " |      .   \n",
      " |      .       The C function also deallocates memory and clears \\*capture pointer.\n",
      " |  \n",
      " |  retrieve(...)\n",
      " |      retrieve([, image[, flag]]) -> retval, image\n",
      " |      .   @brief Decodes and returns the grabbed video frame.\n",
      " |      .   \n",
      " |      .       @param [out] image the video frame is returned here. If no frames has been grabbed the image will be empty.\n",
      " |      .       @param flag it could be a frame index or a driver specific flag\n",
      " |      .       @return `false` if no frames has been grabbed\n",
      " |      .   \n",
      " |      .       The method decodes and returns the just grabbed frame. If no frames has been grabbed\n",
      " |      .       (camera has been disconnected, or there are no more frames in video file), the method returns false\n",
      " |      .       and the function returns an empty image (with %cv::Mat, test it with Mat::empty()).\n",
      " |      .   \n",
      " |      .       @sa read()\n",
      " |      .   \n",
      " |      .       @note In @ref videoio_c \"C API\", functions cvRetrieveFrame() and cv.RetrieveFrame() return image stored inside the video\n",
      " |      .       capturing structure. It is not allowed to modify or release the image! You can copy the frame using\n",
      " |      .       cvCloneImage and then do whatever you want with the copy.\n",
      " |  \n",
      " |  set(...)\n",
      " |      set(propId, value) -> retval\n",
      " |      .   @brief Sets a property in the VideoCapture.\n",
      " |      .   \n",
      " |      .       @param propId Property identifier from cv::VideoCaptureProperties (eg. cv::CAP_PROP_POS_MSEC, cv::CAP_PROP_POS_FRAMES, ...)\n",
      " |      .       or one from @ref videoio_flags_others\n",
      " |      .       @param value Value of the property.\n",
      " |      .       @return `true` if the property is supported by backend used by the VideoCapture instance.\n",
      " |      .       @note Even if it returns `true` this doesn't ensure that the property\n",
      " |      .       value has been accepted by the capture device. See note in VideoCapture::get()\n",
      " |  \n",
      " |  setExceptionMode(...)\n",
      " |      setExceptionMode(enable) -> None\n",
      " |      .   Switches exceptions mode\n",
      " |      .        *\n",
      " |      .        * methods raise exceptions if not successful instead of returning an error code\n",
      " |  \n",
      " |  ----------------------------------------------------------------------\n",
      " |  Static methods defined here:\n",
      " |  \n",
      " |  __new__(*args, **kwargs) from builtins.type\n",
      " |      Create and return a new object.  See help(type) for accurate signature.\n",
      "\n"
     ]
    }
   ],
   "source": [
    "help(cv2.VideoCapture)"
   ]
  },
  {
   "cell_type": "code",
   "execution_count": 123,
   "metadata": {
    "ExecuteTime": {
     "end_time": "2022-11-07T14:52:12.968984Z",
     "start_time": "2022-11-07T14:52:12.964288Z"
    }
   },
   "outputs": [],
   "source": [
    "def count_frames(filename):\n",
    "    video=cv2.VideoCapture(filename)\n",
    "    counter = 0\n",
    "    while video.isOpened():\n",
    "        rete,frame=video.read()\n",
    "        if rete and counter < 10:\n",
    "            print(\"--- frame ---\")\n",
    "            print(frame)\n",
    "            counter += 1\n",
    "        else:\n",
    "            break\n",
    "    return counter"
   ]
  },
  {
   "cell_type": "code",
   "execution_count": 124,
   "metadata": {
    "ExecuteTime": {
     "end_time": "2022-11-07T14:52:13.891890Z",
     "start_time": "2022-11-07T14:52:13.889069Z"
    }
   },
   "outputs": [],
   "source": [
    "def append_frames(filename):\n",
    "    array = []\n",
    "    video=cv2.VideoCapture(filename)\n",
    "    while video.isOpened():\n",
    "        rete,frame=video.read()\n",
    "        if rete:\n",
    "            array.append(frame)\n",
    "        else:\n",
    "            break\n",
    "    return array"
   ]
  },
  {
   "cell_type": "code",
   "execution_count": 125,
   "metadata": {
    "ExecuteTime": {
     "end_time": "2022-11-07T14:52:18.705504Z",
     "start_time": "2022-11-07T14:52:17.407219Z"
    }
   },
   "outputs": [],
   "source": [
    "n_frames = append_frames(Video_FILE)"
   ]
  },
  {
   "cell_type": "code",
   "execution_count": 126,
   "metadata": {
    "ExecuteTime": {
     "end_time": "2022-11-07T14:52:20.237313Z",
     "start_time": "2022-11-07T14:52:20.234568Z"
    }
   },
   "outputs": [],
   "source": [
    "nr_frames = [x[:,:,1] for x in n_frames] "
   ]
  },
  {
   "cell_type": "code",
   "execution_count": 127,
   "metadata": {
    "ExecuteTime": {
     "end_time": "2022-11-07T14:52:21.852829Z",
     "start_time": "2022-11-07T14:52:21.848754Z"
    }
   },
   "outputs": [
    {
     "data": {
      "text/plain": [
       "array([[1, 1, 1, ..., 4, 4, 4],\n",
       "       [1, 1, 1, ..., 2, 2, 2],\n",
       "       [1, 1, 1, ..., 2, 2, 2],\n",
       "       ...,\n",
       "       [1, 1, 1, ..., 0, 0, 0],\n",
       "       [1, 1, 1, ..., 0, 0, 0],\n",
       "       [1, 1, 1, ..., 0, 0, 0]], dtype=uint8)"
      ]
     },
     "execution_count": 127,
     "metadata": {},
     "output_type": "execute_result"
    }
   ],
   "source": [
    "nr_frames[0]"
   ]
  },
  {
   "cell_type": "code",
   "execution_count": 128,
   "metadata": {
    "ExecuteTime": {
     "end_time": "2022-11-07T14:52:23.300685Z",
     "start_time": "2022-11-07T14:52:23.290665Z"
    }
   },
   "outputs": [
    {
     "data": {
      "text/plain": [
       "2"
      ]
     },
     "execution_count": 128,
     "metadata": {},
     "output_type": "execute_result"
    }
   ],
   "source": [
    "c"
   ]
  },
  {
   "cell_type": "code",
   "execution_count": 5,
   "metadata": {
    "ExecuteTime": {
     "end_time": "2022-11-07T11:30:31.637260Z",
     "start_time": "2022-11-07T11:30:31.630424Z"
    }
   },
   "outputs": [],
   "source": [
    "def get_frame(filename,index):\n",
    "    counter=0\n",
    "    video=cv2.VideoCapture(filename)\n",
    "    while video.isOpened():\n",
    "        rete,frame=video.read()\n",
    "        if rete:\n",
    "            if counter==index:\n",
    "                return frame\n",
    "            counter +=1\n",
    "        else:\n",
    "            break\n",
    "    video.release()\n",
    "    return None"
   ]
  },
  {
   "cell_type": "code",
   "execution_count": 35,
   "metadata": {
    "ExecuteTime": {
     "end_time": "2022-11-04T15:37:06.263804Z",
     "start_time": "2022-11-04T15:37:06.048962Z"
    }
   },
   "outputs": [
    {
     "name": "stdout",
     "output_type": "stream",
     "text": [
      "shape is (568, 720, 3)\n",
      "pixel at (60,21) [153 153 153]\n",
      "pixel at (120,10) [152 152 152]\n"
     ]
    }
   ],
   "source": [
    "frame = get_frame(Video_FILE, 200)\n",
    "print('shape is', frame.shape)\n",
    "print('pixel at (60,21)',frame[60,21,:])\n",
    "print('pixel at (120,10)',frame[120,10,:])"
   ]
  },
  {
   "cell_type": "code",
   "execution_count": null,
   "metadata": {},
   "outputs": [],
   "source": [
    "# 568,720 -> 71,72 [8, 10]"
   ]
  },
  {
   "cell_type": "code",
   "execution_count": 36,
   "metadata": {
    "ExecuteTime": {
     "end_time": "2022-11-07T11:56:27.730220Z",
     "start_time": "2022-11-07T11:56:27.727398Z"
    }
   },
   "outputs": [
    {
     "data": {
      "text/plain": [
       "80"
      ]
     },
     "execution_count": 36,
     "metadata": {},
     "output_type": "execute_result"
    }
   ],
   "source": [
    "8*10"
   ]
  },
  {
   "cell_type": "code",
   "execution_count": 58,
   "metadata": {
    "ExecuteTime": {
     "end_time": "2022-11-07T12:46:26.556135Z",
     "start_time": "2022-11-07T12:46:26.552616Z"
    }
   },
   "outputs": [
    {
     "name": "stdout",
     "output_type": "stream",
     "text": [
      "35\n",
      "106\n",
      "177\n",
      "248\n",
      "319\n",
      "390\n",
      "461\n",
      "532\n",
      "8\n"
     ]
    }
   ],
   "source": [
    "for i in range(8):\n",
    "    print(i*71 + (71//2))"
   ]
  },
  {
   "cell_type": "code",
   "execution_count": 43,
   "metadata": {
    "ExecuteTime": {
     "end_time": "2022-11-07T12:01:54.398312Z",
     "start_time": "2022-11-07T12:01:54.395272Z"
    }
   },
   "outputs": [
    {
     "name": "stdout",
     "output_type": "stream",
     "text": [
      "36\n",
      "108\n",
      "180\n",
      "252\n",
      "324\n",
      "396\n",
      "468\n",
      "540\n",
      "612\n",
      "684\n"
     ]
    }
   ],
   "source": [
    "for i in range(10):\n",
    "    print(i*72 + (72//2))"
   ]
  },
  {
   "cell_type": "code",
   "execution_count": 64,
   "metadata": {
    "ExecuteTime": {
     "end_time": "2022-11-07T12:48:15.477831Z",
     "start_time": "2022-11-07T12:48:15.465506Z"
    }
   },
   "outputs": [],
   "source": [
    "frames = list(get_frames(Video_FILE))"
   ]
  },
  {
   "cell_type": "code",
   "execution_count": 68,
   "metadata": {
    "ExecuteTime": {
     "end_time": "2022-11-07T14:27:01.806920Z",
     "start_time": "2022-11-07T14:27:01.804252Z"
    }
   },
   "outputs": [
    {
     "data": {
      "text/plain": [
       "list"
      ]
     },
     "execution_count": 68,
     "metadata": {},
     "output_type": "execute_result"
    }
   ],
   "source": [
    "type(nr_frames)"
   ]
  },
  {
   "cell_type": "code",
   "execution_count": 129,
   "metadata": {
    "ExecuteTime": {
     "end_time": "2022-11-07T14:53:07.900055Z",
     "start_time": "2022-11-07T14:53:07.810179Z"
    }
   },
   "outputs": [],
   "source": [
    "counter = 0\n",
    "test = []\n",
    "\n",
    "for www in range(1100):\n",
    "    selected = []\n",
    "    \n",
    "    for i in range(8):\n",
    "        x = i*71 + 71//2\n",
    "        for j in range(10):\n",
    "            y = j*72 + (72//2)\n",
    "            #selected.append((www, arr_frames[www,x,y]))\n",
    "            selected.append(arr_frames[www,x,y])\n",
    "            \n",
    "    test.append(selected)"
   ]
  },
  {
   "cell_type": "code",
   "execution_count": 133,
   "metadata": {
    "ExecuteTime": {
     "end_time": "2022-11-07T14:53:37.327449Z",
     "start_time": "2022-11-07T14:53:37.316200Z"
    }
   },
   "outputs": [],
   "source": [
    "frames = np.array(test)"
   ]
  },
  {
   "cell_type": "code",
   "execution_count": 136,
   "metadata": {
    "ExecuteTime": {
     "end_time": "2022-11-07T14:54:25.718238Z",
     "start_time": "2022-11-07T14:54:25.708452Z"
    }
   },
   "outputs": [
    {
     "data": {
      "text/plain": [
       "array([[1, 0, 1, ..., 1, 2, 1],\n",
       "       [1, 1, 1, ..., 2, 1, 1],\n",
       "       [1, 1, 1, ..., 2, 1, 1],\n",
       "       ...,\n",
       "       [1, 1, 0, ..., 0, 0, 0],\n",
       "       [0, 0, 0, ..., 0, 0, 0],\n",
       "       [0, 0, 0, ..., 0, 0, 0]], dtype=uint8)"
      ]
     },
     "execution_count": 136,
     "metadata": {},
     "output_type": "execute_result"
    }
   ],
   "source": [
    "frames"
   ]
  },
  {
   "cell_type": "code",
   "execution_count": 137,
   "metadata": {
    "ExecuteTime": {
     "end_time": "2022-11-07T15:01:44.546799Z",
     "start_time": "2022-11-07T15:01:44.541235Z"
    }
   },
   "outputs": [],
   "source": [
    "import json"
   ]
  },
  {
   "cell_type": "code",
   "execution_count": null,
   "metadata": {},
   "outputs": [],
   "source": []
  },
  {
   "cell_type": "code",
   "execution_count": 74,
   "metadata": {
    "ExecuteTime": {
     "end_time": "2022-11-07T14:31:13.099622Z",
     "start_time": "2022-11-07T14:31:12.910414Z"
    }
   },
   "outputs": [],
   "source": [
    "arr_frames = np.array(nr_frames)"
   ]
  },
  {
   "cell_type": "code",
   "execution_count": 80,
   "metadata": {
    "ExecuteTime": {
     "end_time": "2022-11-07T14:33:21.824061Z",
     "start_time": "2022-11-07T14:33:21.821269Z"
    }
   },
   "outputs": [
    {
     "data": {
      "text/plain": [
       "(1100, 568, 720)"
      ]
     },
     "execution_count": 80,
     "metadata": {},
     "output_type": "execute_result"
    }
   ],
   "source": [
    "arr_frames.shape"
   ]
  }
 ],
 "metadata": {
  "kernelspec": {
   "display_name": "Python 3",
   "language": "python",
   "name": "python3"
  },
  "language_info": {
   "codemirror_mode": {
    "name": "ipython",
    "version": 3
   },
   "file_extension": ".py",
   "mimetype": "text/x-python",
   "name": "python",
   "nbconvert_exporter": "python",
   "pygments_lexer": "ipython3",
   "version": "3.7.4"
  },
  "toc": {
   "base_numbering": 1,
   "nav_menu": {},
   "number_sections": true,
   "sideBar": true,
   "skip_h1_title": false,
   "title_cell": "Table of Contents",
   "title_sidebar": "Contents",
   "toc_cell": false,
   "toc_position": {},
   "toc_section_display": true,
   "toc_window_display": false
  }
 },
 "nbformat": 4,
 "nbformat_minor": 2
}
